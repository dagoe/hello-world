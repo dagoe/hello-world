{
  "nbformat": 4,
  "nbformat_minor": 0,
  "metadata": {
    "kernelspec": {
      "display_name": "Python 3",
      "language": "python",
      "name": "python3"
    },
    "language_info": {
      "codemirror_mode": {
        "name": "ipython",
        "version": 3
      },
      "file_extension": ".py",
      "mimetype": "text/x-python",
      "name": "python",
      "nbconvert_exporter": "python",
      "pygments_lexer": "ipython3",
      "version": "3.7.4"
    },
    "colab": {
      "name": "StatistikMitMatplotlib.ipynb",
      "provenance": [],
      "include_colab_link": true
    }
  },
  "cells": [
    {
      "cell_type": "markdown",
      "metadata": {
        "id": "view-in-github",
        "colab_type": "text"
      },
      "source": [
        "<a href=\"https://colab.research.google.com/github/dagoe/hello-world/blob/master/StatistikMitMatplotlib.ipynb\" target=\"_parent\"><img src=\"https://colab.research.google.com/assets/colab-badge.svg\" alt=\"Open In Colab\"/></a>"
      ]
    },
    {
      "cell_type": "markdown",
      "metadata": {
        "id": "3vX9sHwV0di8",
        "colab_type": "text"
      },
      "source": [
        "# Deskriptive Statistik mit matplotlib"
      ]
    },
    {
      "cell_type": "code",
      "metadata": {
        "id": "HQfQtM0J0di-",
        "colab_type": "code",
        "colab": {}
      },
      "source": [
        "import numpy as np\n",
        "import matplotlib.pyplot as plt\n",
        "%matplotlib notebook"
      ],
      "execution_count": 0,
      "outputs": []
    },
    {
      "cell_type": "markdown",
      "metadata": {
        "id": "WQDRynnQ0djI",
        "colab_type": "text"
      },
      "source": [
        "## Simulation von Daten\n",
        "Wir erzeugen künstliche Beobachtungen des Intelligenzquotienten. Per **Definition** ist der IQ normalverteilt mit Erwartungswert 100 und Standardabweichung 15."
      ]
    },
    {
      "cell_type": "code",
      "metadata": {
        "id": "T874O2V70djK",
        "colab_type": "code",
        "colab": {}
      },
      "source": [
        "N = 300 # Anzahl der simulierten Beobachtungen\n",
        "x = 100 + 15*np.random.randn(N)"
      ],
      "execution_count": 0,
      "outputs": []
    },
    {
      "cell_type": "markdown",
      "metadata": {
        "id": "8W0sVb8E0djR",
        "colab_type": "text"
      },
      "source": [
        "# Statistiken"
      ]
    },
    {
      "cell_type": "code",
      "metadata": {
        "id": "KCes2Hp90djS",
        "colab_type": "code",
        "outputId": "c60a53a9-1f3e-456a-c11e-f798330dd4fc",
        "colab": {
          "base_uri": "https://localhost:8080/",
          "height": 71
        }
      },
      "source": [
        "meanX = np.mean(x) \n",
        "stdX = np.std(x)\n",
        "medianX = np.median(x)\n",
        "iqrX = np.percentile(x, 75) - np.percentile(x, 25)\n",
        "print(\"Mittelwert = {0:.2f}, Standardabweichung = {1:10.2f}\\nMedian = {2}, Interquartilsabstand = {3:.2e}\\n\"\n",
        "      .format(meanX, stdX, medianX, iqrX))"
      ],
      "execution_count": 0,
      "outputs": [
        {
          "output_type": "stream",
          "text": [
            "Mittelwert = 99.61, Standardabweichung =      14.75\n",
            "Median = 99.49199114149215, Interquartilsabstand = 1.91e+01\n",
            "\n"
          ],
          "name": "stdout"
        }
      ]
    },
    {
      "cell_type": "markdown",
      "metadata": {
        "id": "mnTQp6AX0djY",
        "colab_type": "text"
      },
      "source": [
        "# Histogramm"
      ]
    },
    {
      "cell_type": "code",
      "metadata": {
        "id": "e24y5v0N0dja",
        "colab_type": "code",
        "outputId": "de6a7a71-0cc9-43a6-c6fe-828b0f9e5aa1",
        "colab": {
          "base_uri": "https://localhost:8080/",
          "height": 265
        }
      },
      "source": [
        "plt.figure()\n",
        "plt.hist(x,100)\n",
        "plt.show()"
      ],
      "execution_count": 0,
      "outputs": [
        {
          "output_type": "display_data",
          "data": {
            "image/png": "[encoded data removed]",
            "text/plain": [
              "<Figure size 432x288 with 1 Axes>"
            ]
          },
          "metadata": {
            "tags": [],
            "needs_background": "light"
          }
        }
      ]
    },
    {
      "cell_type": "code",
      "metadata": {
        "id": "6B72zicUAh-p",
        "colab_type": "code",
        "outputId": "1be7cd5f-5514-4cdb-b5fb-c74b68330a94",
        "colab": {
          "base_uri": "https://localhost:8080/",
          "height": 35
        }
      },
      "source": [
        "# Wieviele Personen haben einen IQ > 130?\n",
        "np.sum(x>130)"
      ],
      "execution_count": 0,
      "outputs": [
        {
          "output_type": "execute_result",
          "data": {
            "text/plain": [
              "8"
            ]
          },
          "metadata": {
            "tags": []
          },
          "execution_count": 6
        }
      ]
    },
    {
      "cell_type": "markdown",
      "metadata": {
        "id": "HCxhg3zv0djh",
        "colab_type": "text"
      },
      "source": [
        "# Empirische Verteilungsfunktion"
      ]
    },
    {
      "cell_type": "code",
      "metadata": {
        "id": "PsphBs0q0dji",
        "colab_type": "code",
        "outputId": "27a24e62-bf19-4990-a70c-ec9bd6c3efb6",
        "colab": {
          "base_uri": "https://localhost:8080/",
          "height": 286
        }
      },
      "source": [
        "xSorted = np.sort(x)\n",
        "y = np.arange(len(x))/float(len(x))\n",
        "plt.figure()\n",
        "plt.plot(xSorted, y)\n",
        "plt.show()"
      ],
      "execution_count": 0,
      "outputs": [
        {
          "output_type": "display_data",
          "data": {
            "image/png": "[encoded data removed]",
            "text/plain": [
              "<Figure size 432x288 with 1 Axes>"
            ]
          },
          "metadata": {
            "tags": [],
            "needs_background": "light"
          }
        }
      ]
    },
    {
      "cell_type": "markdown",
      "metadata": {
        "id": "gzKjLi_80djo",
        "colab_type": "text"
      },
      "source": [
        "# Einteilung in Klassen"
      ]
    },
    {
      "cell_type": "code",
      "metadata": {
        "id": "HLa5ugFD0djs",
        "colab_type": "code",
        "outputId": "7d6b1999-f687-417c-ef62-d5fec917aa79",
        "colab": {
          "base_uri": "https://localhost:8080/",
          "height": 434
        }
      },
      "source": [
        "y = np.where(x>130, 'A', 'B')\n",
        "y"
      ],
      "execution_count": 0,
      "outputs": [
        {
          "output_type": "execute_result",
          "data": {
            "text/plain": [
              "array(['B', 'B', 'B', 'B', 'B', 'B', 'B', 'B', 'B', 'B', 'B', 'B', 'B',\n",
              "       'B', 'B', 'B', 'A', 'B', 'B', 'B', 'B', 'B', 'B', 'B', 'B', 'A',\n",
              "       'B', 'B', 'B', 'B', 'B', 'B', 'B', 'B', 'B', 'B', 'B', 'B', 'B',\n",
              "       'B', 'B', 'B', 'B', 'B', 'B', 'A', 'B', 'B', 'B', 'B', 'B', 'B',\n",
              "       'B', 'B', 'B', 'B', 'B', 'B', 'B', 'B', 'B', 'B', 'B', 'B', 'B',\n",
              "       'B', 'B', 'B', 'B', 'B', 'B', 'B', 'B', 'B', 'B', 'B', 'B', 'B',\n",
              "       'B', 'B', 'B', 'B', 'B', 'B', 'B', 'B', 'B', 'B', 'B', 'B', 'B',\n",
              "       'B', 'B', 'B', 'B', 'B', 'B', 'B', 'B', 'B', 'B', 'B', 'B', 'B',\n",
              "       'B', 'B', 'B', 'B', 'B', 'B', 'B', 'B', 'B', 'B', 'B', 'B', 'B',\n",
              "       'B', 'B', 'B', 'B', 'B', 'B', 'B', 'B', 'B', 'B', 'B', 'B', 'B',\n",
              "       'B', 'B', 'B', 'B', 'B', 'B', 'B', 'B', 'B', 'B', 'B', 'B', 'B',\n",
              "       'B', 'B', 'B', 'B', 'B', 'B', 'B', 'B', 'B', 'B', 'B', 'B', 'B',\n",
              "       'B', 'B', 'B', 'B', 'B', 'B', 'B', 'B', 'B', 'B', 'B', 'B', 'B',\n",
              "       'B', 'B', 'B', 'B', 'B', 'B', 'B', 'B', 'B', 'B', 'B', 'B', 'A',\n",
              "       'B', 'B', 'B', 'B', 'A', 'B', 'B', 'B', 'B', 'B', 'B', 'B', 'B',\n",
              "       'B', 'B', 'B', 'B', 'B', 'B', 'B', 'B', 'B', 'B', 'B', 'B', 'B',\n",
              "       'B', 'B', 'B', 'B', 'B', 'B', 'B', 'B', 'B', 'B', 'B', 'B', 'B',\n",
              "       'B', 'B', 'B', 'B', 'B', 'B', 'B', 'B', 'B', 'B', 'B', 'B', 'B',\n",
              "       'B', 'B', 'B', 'B', 'B', 'B', 'B', 'B', 'B', 'B', 'B', 'B', 'B',\n",
              "       'B', 'B', 'B', 'B', 'B', 'B', 'B', 'B', 'B', 'B', 'B', 'B', 'B',\n",
              "       'B', 'B', 'B', 'B', 'B', 'B', 'B', 'B', 'B', 'B', 'B', 'B', 'B',\n",
              "       'B', 'B', 'B', 'B', 'B', 'B', 'B', 'B', 'B', 'B', 'B', 'B', 'B',\n",
              "       'B', 'B', 'B', 'B', 'B', 'B', 'B', 'B', 'B', 'B', 'B', 'B', 'B',\n",
              "       'B'], dtype='<U1')"
            ]
          },
          "metadata": {
            "tags": []
          },
          "execution_count": 41
        }
      ]
    },
    {
      "cell_type": "code",
      "metadata": {
        "id": "inbgaVdX0djz",
        "colab_type": "code",
        "outputId": "cff5967a-f8bd-42f0-f386-08302255ea11",
        "colab": {
          "base_uri": "https://localhost:8080/",
          "height": 54
        }
      },
      "source": [
        "numA = np.sum(y == 'A')\n",
        "numB = np.sum(y == 'B')\n",
        "print(\"{0} Personen sind in Klasse A, {1} Personen sind in Klasse B.\".format(numA, numB))"
      ],
      "execution_count": 0,
      "outputs": [
        {
          "output_type": "stream",
          "text": [
            "5 Personen sind in Klasse A, 295 Personen sind in Klasse B.\n"
          ],
          "name": "stdout"
        }
      ]
    },
    {
      "cell_type": "code",
      "metadata": {
        "scrolled": true,
        "id": "abEwoEAp0dj5",
        "colab_type": "code",
        "outputId": "c6208892-2e8f-4e75-e575-596c8868e2e3",
        "colab": {
          "base_uri": "https://localhost:8080/",
          "height": 268
        }
      },
      "source": [
        "plt.figure()\n",
        "plt.pie([numA,numB], labels=(\"A\",\"B\"), explode=(0.3, 0))\n",
        "plt.show()"
      ],
      "execution_count": 0,
      "outputs": [
        {
          "output_type": "display_data",
          "data": {
            "image/png": "[encoded data removed]",
            "text/plain": [
              "<Figure size 432x288 with 1 Axes>"
            ]
          },
          "metadata": {
            "tags": []
          }
        }
      ]
    },
    {
      "cell_type": "markdown",
      "metadata": {
        "id": "hus7MgrS0dj_",
        "colab_type": "text"
      },
      "source": [
        "Mehr Klassen."
      ]
    },
    {
      "cell_type": "code",
      "metadata": {
        "id": "_JM3I0wp0dkA",
        "colab_type": "code",
        "colab": {}
      },
      "source": [
        "condList = [x < 85, np.logical_and(85 <= x, x < 115), x >= 115]\n",
        "choiceList = ['Lo', 'Norm', 'Hi']\n",
        "y1 = np.select(condList, choiceList)"
      ],
      "execution_count": 0,
      "outputs": []
    },
    {
      "cell_type": "code",
      "metadata": {
        "id": "bUdvV-U60dkE",
        "colab_type": "code",
        "outputId": "2ec6ebfc-5aec-40d4-ff27-2cfeb3e5c376",
        "colab": {
          "base_uri": "https://localhost:8080/",
          "height": 120
        }
      },
      "source": [
        "list(zip(x, y1))[:5]"
      ],
      "execution_count": 0,
      "outputs": [
        {
          "output_type": "execute_result",
          "data": {
            "text/plain": [
              "[(90.71562747996998, 'Norm'),\n",
              " (90.02512755149199, 'Norm'),\n",
              " (97.34834452210474, 'Norm'),\n",
              " (116.68417085544966, 'Hi'),\n",
              " (92.13424538831359, 'Norm')]"
            ]
          },
          "metadata": {
            "tags": []
          },
          "execution_count": 53
        }
      ]
    },
    {
      "cell_type": "code",
      "metadata": {
        "id": "_eYMWGAw0dkH",
        "colab_type": "code",
        "outputId": "8341c813-19c9-473a-b851-e268e496b4d3",
        "colab": {
          "base_uri": "https://localhost:8080/",
          "height": 285
        }
      },
      "source": [
        "clSize = [np.sum(y1 == lbl) for lbl in choiceList]\n",
        "plt.figure()\n",
        "plt.pie(clSize, labels=choiceList)\n",
        "plt.show()\n",
        "clSize"
      ],
      "execution_count": 0,
      "outputs": [
        {
          "output_type": "display_data",
          "data": {
            "image/png": "[encoded data removed]",
            "text/plain": [
              "<Figure size 432x288 with 1 Axes>"
            ]
          },
          "metadata": {
            "tags": []
          }
        },
        {
          "output_type": "execute_result",
          "data": {
            "text/plain": [
              "[46, 197, 57]"
            ]
          },
          "metadata": {
            "tags": []
          },
          "execution_count": 54
        }
      ]
    },
    {
      "cell_type": "code",
      "metadata": {
        "id": "HyKipPet0dkM",
        "colab_type": "code",
        "outputId": "9fe9693e-934d-4d45-fdb1-16a10b4b2a18",
        "colab": {
          "base_uri": "https://localhost:8080/",
          "height": 286
        }
      },
      "source": [
        "plt.figure()\n",
        "plt.bar(choiceList, clSize)\n",
        "plt.show()"
      ],
      "execution_count": 0,
      "outputs": [
        {
          "output_type": "display_data",
          "data": {
            "image/png": "[encoded data removed]",
            "text/plain": [
              "<Figure size 432x288 with 1 Axes>"
            ]
          },
          "metadata": {
            "tags": [],
            "needs_background": "light"
          }
        }
      ]
    },
    {
      "cell_type": "markdown",
      "metadata": {
        "id": "8BDUikjQ0dkQ",
        "colab_type": "text"
      },
      "source": [
        "# Einfache und geschichtete Zufallsstichproben"
      ]
    },
    {
      "cell_type": "markdown",
      "metadata": {
        "id": "pVVu6c950dkR",
        "colab_type": "text"
      },
      "source": [
        "## Synthetische Daten"
      ]
    },
    {
      "cell_type": "code",
      "metadata": {
        "id": "RartFejj0dkS",
        "colab_type": "code",
        "outputId": "457954b8-f3c6-42b6-e28c-06d32ebad031",
        "colab": {
          "base_uri": "https://localhost:8080/",
          "height": 71
        }
      },
      "source": [
        "# A: Adlige, B: Bauern\n",
        "NumA = 1000\n",
        "NumB = 10000 - NumA\n",
        "mittleres_Einkommen_A = 100000\n",
        "mittleres_Einkommen_B = 10000\n",
        "std_A = 10000 * 0.1\n",
        "std_B = 1000 * 0.1\n",
        "# Ziehe normalverteilte Einkommen aus diesen Gruppen\n",
        "A = mittleres_Einkommen_A + std_A*np.random.randn(NumA)\n",
        "B = mittleres_Einkommen_B + std_B*np.random.randn(NumB)\n",
        "Population = np.concatenate([A, B])\n",
        "mittleres_Einkommen_Population = np.mean(Population)\n",
        "median_Einkommen_Population = np.median(Population)\n",
        "print(f\"mittleres Einkommen Population = {mittleres_Einkommen_Population}\")\n",
        "print(f\"Median Einkommen Population = {median_Einkommen_Population}\")"
      ],
      "execution_count": 0,
      "outputs": [
        {
          "output_type": "stream",
          "text": [
            "mittleres Einkommen Population = 19005.760720472168\n",
            "Median Einkommen Population = 10014.980980349254\n"
          ],
          "name": "stdout"
        }
      ]
    },
    {
      "cell_type": "markdown",
      "metadata": {
        "id": "UfsR_OlJ0dkX",
        "colab_type": "text"
      },
      "source": [
        "## Einkommensverteilung"
      ]
    },
    {
      "cell_type": "code",
      "metadata": {
        "id": "ivTSTRhT0dkY",
        "colab_type": "code",
        "outputId": "586cd4ce-93fc-44e0-dd12-a758dc0e01a1",
        "colab": {
          "base_uri": "https://localhost:8080/",
          "height": 301
        }
      },
      "source": [
        "plt.figure()\n",
        "plt.title(\"Einkommensverteilung der Population\")\n",
        "plt.hist(Population,50)\n",
        "plt.show()"
      ],
      "execution_count": 0,
      "outputs": [
        {
          "output_type": "display_data",
          "data": {
            "image/png": "[encoded data removed]",
            "text/plain": [
              "<Figure size 432x288 with 1 Axes>"
            ]
          },
          "metadata": {
            "tags": [],
            "needs_background": "light"
          }
        }
      ]
    },
    {
      "cell_type": "markdown",
      "metadata": {
        "id": "s749rb2h0dka",
        "colab_type": "text"
      },
      "source": [
        "## Simulation von vielen unabhängigen Zufallsstichproben\n",
        "Jede Stichprobe umfasst 1% der Population. Geschätzt werden soll das mittlere Einkommen."
      ]
    },
    {
      "cell_type": "code",
      "metadata": {
        "id": "qljPAY580dkb",
        "colab_type": "code",
        "outputId": "5af4d2c1-519a-4bcc-ebf0-59589307357f",
        "colab": {
          "base_uri": "https://localhost:8080/",
          "height": 301
        }
      },
      "source": [
        "N = 300\n",
        "mittleresEinkommen = np.zeros(N) + np.nan\n",
        "stichprobenumfang = 100\n",
        "for k in range(N):\n",
        "    # Ziehe ohne Zuruecklegen\n",
        "    stichprobe = np.random.choice(Population, size=stichprobenumfang, replace=False)\n",
        "    mittleresEinkommen[k] = np.mean(stichprobe)\n",
        "plt.figure()\n",
        "plt.title(f\"Geschätztes mittleres Einkommen in {N} Experimenten\")\n",
        "plt.hist(mittleresEinkommen)\n",
        "plt.axvline(x=mittleres_Einkommen_Population, color='k')\n",
        "plt.show()"
      ],
      "execution_count": 0,
      "outputs": [
        {
          "output_type": "display_data",
          "data": {
            "image/png": "[encoded data removed]",
            "text/plain": [
              "<Figure size 432x288 with 1 Axes>"
            ]
          },
          "metadata": {
            "tags": [],
            "needs_background": "light"
          }
        }
      ]
    },
    {
      "cell_type": "markdown",
      "metadata": {
        "id": "E8qoNJvk0dke",
        "colab_type": "text"
      },
      "source": [
        "## Simulation von vielen geschichteten Zufallsstichproben\n",
        "Wiederum mit jeweils 1% der Population."
      ]
    },
    {
      "cell_type": "code",
      "metadata": {
        "id": "MSazk5J40dkf",
        "colab_type": "code",
        "outputId": "ca69195d-c906-4369-c96a-765ac843c313",
        "colab": {
          "base_uri": "https://localhost:8080/",
          "height": 301
        }
      },
      "source": [
        "mittleresEinkommen_S = np.zeros(N) + np.nan\n",
        "stichprobenumfang = 100\n",
        "anteilA = NumA/(NumA + NumB)\n",
        "anteilB = NumB/(NumA + NumB)\n",
        "stichprobenumfangB = np.int(anteilB*stichprobenumfang)\n",
        "stichprobenumfangA = stichprobenumfang - stichprobenumfangB\n",
        "for k in range(N):\n",
        "    # Ziehe ohne Zuruecklegen aus A\n",
        "    stichprobeA = np.random.choice(A, size=stichprobenumfangA, replace=False)\n",
        "    # Ziehe ohne Zuruecklegen aus B\n",
        "    stichprobeB = np.random.choice(B, size=stichprobenumfangB, replace=False)\n",
        "    # Gesamte Stichprobe\n",
        "    stichprobe = np.concatenate([stichprobeA, stichprobeB])\n",
        "    mittleresEinkommen_S[k] = np.mean(stichprobe)\n",
        "plt.figure()\n",
        "plt.title(f\"Geschätztes mittleres Einkommen in {N} Experimenten\")\n",
        "plt.hist(mittleresEinkommen, label=\"einfach\")\n",
        "plt.hist(mittleresEinkommen_S, label=\"geschichtet\")\n",
        "plt.axvline(x=mittleres_Einkommen_Population, color='k', label=\"Population\")\n",
        "plt.legend()\n",
        "plt.show()"
      ],
      "execution_count": 0,
      "outputs": [
        {
          "output_type": "display_data",
          "data": {
            "image/png": "[encoded data removed]",
            "text/plain": [
              "<Figure size 432x288 with 1 Axes>"
            ]
          },
          "metadata": {
            "tags": [],
            "needs_background": "light"
          }
        }
      ]
    },
    {
      "cell_type": "code",
      "metadata": {
        "id": "liRg0YY-0dkh",
        "colab_type": "code",
        "outputId": "bae1e3f8-4d77-4862-963f-a876cfa15a67",
        "colab": {
          "base_uri": "https://localhost:8080/",
          "height": 1000
        }
      },
      "source": [
        "mittleresEinkommen_S"
      ],
      "execution_count": 0,
      "outputs": [
        {
          "output_type": "execute_result",
          "data": {
            "text/plain": [
              "array([18969.05178284, 19040.95083527, 18973.75001918, 18971.15631165,\n",
              "       18989.68712023, 18947.98246037, 18937.81067525, 19023.70938084,\n",
              "       18993.19063721, 18962.05746638, 19020.79456911, 19023.96081276,\n",
              "       19020.68330456, 18981.69053444, 19025.80965301, 18963.27484203,\n",
              "       19023.05395377, 19006.15923614, 19027.54455438, 18977.03298521,\n",
              "       18962.39505768, 18991.84642282, 19025.31040532, 18989.57487716,\n",
              "       19000.81904993, 18970.15800521, 19004.19660059, 18987.19008811,\n",
              "       19003.85958247, 18996.65753772, 19023.24327788, 18981.44628889,\n",
              "       18964.88301477, 18965.34096586, 19039.0376341 , 18944.16587243,\n",
              "       18964.5877262 , 18967.8470972 , 18972.93159036, 19019.96427103,\n",
              "       18987.26253733, 19016.43579205, 18963.37206026, 19073.31807006,\n",
              "       19000.61626715, 18967.51356743, 19059.71210035, 19003.69122597,\n",
              "       19030.17593522, 18984.44957949, 18944.95386414, 18997.67119339,\n",
              "       18981.19179467, 19012.64437804, 18959.4082376 , 19041.865369  ,\n",
              "       19042.39952762, 18995.79606733, 18941.46324098, 19055.5702418 ,\n",
              "       19010.0484983 , 18998.80164043, 19018.14513395, 19080.48203853,\n",
              "       18981.08132133, 18991.96046746, 19022.65464742, 19062.2553092 ,\n",
              "       19007.63816087, 19008.45096684, 18993.58854781, 19038.37668407,\n",
              "       18984.08166494, 19031.3937715 , 18962.37338802, 19016.20162291,\n",
              "       19046.2689546 , 19034.29268133, 19116.08921874, 19050.74567001,\n",
              "       19034.33769509, 19041.17474007, 19036.72514937, 18989.9591333 ,\n",
              "       18989.33749604, 19008.7743562 , 19039.86198412, 18999.75284326,\n",
              "       19011.85090473, 19058.38068344, 19025.9915177 , 18988.12891089,\n",
              "       19018.04230643, 19034.77967547, 19071.7840484 , 19011.32438856,\n",
              "       18986.30404634, 18991.74177483, 18989.03597205, 19026.6266958 ,\n",
              "       19013.90674869, 18999.44819887, 18989.65810804, 19048.9620827 ,\n",
              "       19035.93094952, 19036.50487795, 19057.04194751, 18980.1005731 ,\n",
              "       19001.86087619, 19026.6417695 , 18974.7405606 , 18973.65748617,\n",
              "       19026.46694654, 18960.43509492, 19013.09729897, 19040.05991754,\n",
              "       19011.64797478, 18994.93667981, 18989.24746656, 18955.38834172,\n",
              "       18993.84962711, 19065.15832652, 19047.06864759, 18994.70724902,\n",
              "       19044.31672204, 19025.77171693, 19033.19943884, 18990.63357449,\n",
              "       18990.19252509, 18960.70514233, 19037.13923143, 18946.49646915,\n",
              "       18968.00841055, 18936.11438308, 19028.65408444, 19061.0548189 ,\n",
              "       18921.64185379, 18986.28621429, 18943.8678042 , 18953.71803601,\n",
              "       18998.07112943, 19000.13127329, 18991.68196681, 19003.16191473,\n",
              "       19041.73659451, 18998.48198566, 18989.54072981, 18987.51875105,\n",
              "       19008.40879588, 18993.29724324, 18938.54230225, 19031.34570135,\n",
              "       19038.20422258, 18990.96123679, 18993.48584652, 18956.10160609,\n",
              "       19046.67166117, 19024.87238663, 19043.48243322, 18960.37073566,\n",
              "       19088.48089351, 19046.02014379, 19029.2929195 , 19013.66943732,\n",
              "       19041.86641053, 18985.13792846, 18971.71423193, 18965.01744007,\n",
              "       18965.1101965 , 18965.85250262, 19078.99534611, 18989.51155288,\n",
              "       19032.84047589, 18964.83105599, 19024.14724814, 19019.20669599,\n",
              "       18989.53045274, 18960.15904275, 18996.73659254, 18926.98123242,\n",
              "       19018.33812408, 18983.13399778, 19002.10738777, 18986.14382627,\n",
              "       18989.05054639, 18994.56079258, 19003.96859059, 19022.01198738,\n",
              "       19032.3047396 , 19056.73935148, 19006.59418524, 19023.52219387,\n",
              "       19019.66013657, 19066.58800146, 19004.32084745, 19014.57963482,\n",
              "       19018.87402177, 19023.954218  , 18959.01683818, 19027.63646218,\n",
              "       18945.86349358, 18971.08276576, 19025.36455308, 19022.23570468,\n",
              "       19057.11808628, 18935.24776549, 18991.11589132, 19020.78686027,\n",
              "       19042.21126752, 18957.72545932, 18990.34200076, 18998.59290198,\n",
              "       18988.81069624, 18999.58998966, 19060.62644023, 19041.71710206,\n",
              "       19022.38581184, 19053.20894813, 19018.73404127, 19030.23887258,\n",
              "       18949.53874103, 19036.08308192, 18982.87378037, 19008.17293358,\n",
              "       19001.60069375, 19055.7385947 , 19001.86391547, 19008.31015127,\n",
              "       19036.20728212, 19048.44832021, 19010.69182447, 19057.08929293,\n",
              "       18985.75860205, 19003.82018419, 19010.98875799, 18972.35175237,\n",
              "       19000.23826564, 18998.50354277, 19042.91578321, 18994.63193129,\n",
              "       19029.13507752, 19034.43774466, 19105.54856543, 19031.38925256,\n",
              "       19048.36450102, 18986.07081686, 18960.38380784, 19027.00856079,\n",
              "       19002.05508262, 18980.41215411, 18969.79302787, 19054.35980922,\n",
              "       19012.54785869, 18977.03450699, 19083.49080685, 19013.9317209 ,\n",
              "       19041.59298119, 19001.05372959, 18941.36553481, 19047.02158009,\n",
              "       19000.11965588, 18944.98496763, 18989.03662425, 18972.72615103,\n",
              "       19003.22007758, 18952.49819734, 19036.88841908, 18987.11508848,\n",
              "       18945.41047606, 18976.58424241, 19006.80866209, 18973.07325345,\n",
              "       18939.39057952, 19036.19192172, 19029.20880955, 19002.65368456,\n",
              "       19032.02353392, 18968.63946629, 19037.68127363, 19048.47509089,\n",
              "       18981.7876382 , 18988.19869447, 18999.13718711, 19065.6488206 ,\n",
              "       19008.27880992, 19017.60053558, 18951.88795661, 19012.59722633,\n",
              "       19069.51965525, 19018.93133559, 19010.48689356, 18964.46238408,\n",
              "       19031.82501196, 18974.282596  , 19028.28008934, 19020.34334508,\n",
              "       19048.08422577, 19040.43617756, 18971.04281142, 19022.63320044])"
            ]
          },
          "metadata": {
            "tags": []
          },
          "execution_count": 17
        }
      ]
    },
    {
      "cell_type": "code",
      "metadata": {
        "id": "UaRUNqCl0dkl",
        "colab_type": "code",
        "colab": {}
      },
      "source": [
        ""
      ],
      "execution_count": 0,
      "outputs": []
    }
  ]
}